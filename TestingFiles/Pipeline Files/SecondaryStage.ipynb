{
 "cells": [
  {
   "cell_type": "code",
   "execution_count": 1,
   "id": "2a7d8a0b-17c8-4f80-8294-c8268a68d428",
   "metadata": {
    "execution": {
     "iopub.execute_input": "2022-08-21T00:00:05.506958Z",
     "iopub.status.busy": "2022-08-21T00:00:05.506462Z",
     "iopub.status.idle": "2022-08-21T00:00:05.520595Z",
     "shell.execute_reply": "2022-08-21T00:00:05.519441Z"
    },
    "papermill": {
     "duration": 0.021116,
     "end_time": "2022-08-21T00:00:05.523488",
     "exception": false,
     "start_time": "2022-08-21T00:00:05.502372",
     "status": "completed"
    },
    "tags": []
   },
   "outputs": [],
   "source": [
    "import json\n",
    "from pathlib import Path"
   ]
  },
  {
   "cell_type": "code",
   "execution_count": 2,
   "id": "7514fbda-5960-4190-884a-6e3fd82394c7",
   "metadata": {
    "execution": {
     "iopub.execute_input": "2022-08-21T00:00:05.529905Z",
     "iopub.status.busy": "2022-08-21T00:00:05.529536Z",
     "iopub.status.idle": "2022-08-21T00:00:05.541368Z",
     "shell.execute_reply": "2022-08-21T00:00:05.540582Z"
    },
    "papermill": {
     "duration": 0.017664,
     "end_time": "2022-08-21T00:00:05.543749",
     "exception": false,
     "start_time": "2022-08-21T00:00:05.526085",
     "status": "completed"
    },
    "tags": []
   },
   "outputs": [
    {
     "data": {
      "text/plain": [
       "70"
      ]
     },
     "execution_count": 2,
     "metadata": {},
     "output_type": "execute_result"
    }
   ],
   "source": [
    "p = Path(\"env.json\")\n",
    "d = json.loads(p.read_text())\n",
    "d[\"Notification_Message\"] = \"Working p2\"\n",
    "d[\"Notification_Title\"] = \"System\"\n",
    "p.write_text(json.dumps(d))"
   ]
  },
  {
   "cell_type": "code",
   "execution_count": null,
   "id": "ef19b347-bff2-4139-892c-c4d8de0a41e4",
   "metadata": {
    "papermill": {
     "duration": 0.002172,
     "end_time": "2022-08-21T00:00:05.548151",
     "exception": false,
     "start_time": "2022-08-21T00:00:05.545979",
     "status": "completed"
    },
    "tags": []
   },
   "outputs": [],
   "source": []
  }
 ],
 "metadata": {
  "kernelspec": {
   "display_name": "Python 3 (ipykernel)",
   "language": "python",
   "name": "python3"
  },
  "language_info": {
   "codemirror_mode": {
    "name": "ipython",
    "version": 3
   },
   "file_extension": ".py",
   "mimetype": "text/x-python",
   "name": "python",
   "nbconvert_exporter": "python",
   "pygments_lexer": "ipython3",
   "version": "3.10.4"
  },
  "papermill": {
   "default_parameters": {},
   "duration": 1.172969,
   "end_time": "2022-08-21T00:00:05.769080",
   "environment_variables": {},
   "exception": null,
   "input_path": "/home/srudloff/github/jupyterlab_scheduler/TestingFiles/Pipeline Files/SecondaryStage.ipynb",
   "output_path": "/home/srudloff/github/jupyterlab_scheduler/TestingFiles/Pipeline Files/SecondaryStage.ipynb",
   "parameters": {},
   "start_time": "2022-08-21T00:00:04.596111",
   "version": "2.3.4"
  },
  "widgets": {
   "application/vnd.jupyter.widget-state+json": {
    "state": {},
    "version_major": 2,
    "version_minor": 0
   }
  }
 },
 "nbformat": 4,
 "nbformat_minor": 5
}