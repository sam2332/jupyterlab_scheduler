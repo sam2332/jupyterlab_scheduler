{
 "cells": [
  {
   "cell_type": "code",
   "execution_count": 1,
   "id": "b7fbbde9-71db-43f2-ba2a-1d74acd41230",
   "metadata": {
    "execution": {
     "iopub.execute_input": "2022-08-21T00:00:02.934756Z",
     "iopub.status.busy": "2022-08-21T00:00:02.934287Z",
     "iopub.status.idle": "2022-08-21T00:00:02.949670Z",
     "shell.execute_reply": "2022-08-21T00:00:02.948639Z"
    },
    "papermill": {
     "duration": 0.023075,
     "end_time": "2022-08-21T00:00:02.952596",
     "exception": false,
     "start_time": "2022-08-21T00:00:02.929521",
     "status": "completed"
    },
    "tags": []
   },
   "outputs": [],
   "source": [
    "import json\n",
    "from pathlib import Path\n",
    "p = Path(\"env.json\")\n",
    "d = json.loads(p.read_text())"
   ]
  },
  {
   "cell_type": "code",
   "execution_count": 2,
   "id": "a4fe11b4-17e4-4e50-a3b7-f88f39724026",
   "metadata": {
    "execution": {
     "iopub.execute_input": "2022-08-21T00:00:03.031546Z",
     "iopub.status.busy": "2022-08-21T00:00:03.031173Z",
     "iopub.status.idle": "2022-08-21T00:00:03.045942Z",
     "shell.execute_reply": "2022-08-21T00:00:03.044899Z"
    },
    "papermill": {
     "duration": 0.018311,
     "end_time": "2022-08-21T00:00:03.047314",
     "exception": false,
     "start_time": "2022-08-21T00:00:03.029003",
     "status": "completed"
    },
    "tags": []
   },
   "outputs": [
    {
     "data": {
      "text/plain": [
       "67"
      ]
     },
     "execution_count": 2,
     "metadata": {},
     "output_type": "execute_result"
    }
   ],
   "source": [
    "d[\"Notification_Message\"] = \"Working\"\n",
    "d[\"Notification_Title\"] = \"System\"\n",
    "p.write_text(json.dumps(d))"
   ]
  },
  {
   "cell_type": "code",
   "execution_count": null,
   "id": "910748d6-816e-4084-8237-5f7d61132dfb",
   "metadata": {
    "papermill": {
     "duration": 0.000831,
     "end_time": "2022-08-21T00:00:03.049055",
     "exception": false,
     "start_time": "2022-08-21T00:00:03.048224",
     "status": "completed"
    },
    "tags": []
   },
   "outputs": [],
   "source": []
  }
 ],
 "metadata": {
  "kernelspec": {
   "display_name": "Python 3 (ipykernel)",
   "language": "python",
   "name": "python3"
  },
  "language_info": {
   "codemirror_mode": {
    "name": "ipython",
    "version": 3
   },
   "file_extension": ".py",
   "mimetype": "text/x-python",
   "name": "python",
   "nbconvert_exporter": "python",
   "pygments_lexer": "ipython3",
   "version": "3.10.4"
  },
  "papermill": {
   "default_parameters": {},
   "duration": 1.146123,
   "end_time": "2022-08-21T00:00:03.268273",
   "environment_variables": {},
   "exception": null,
   "input_path": "/home/srudloff/github/jupyterlab_scheduler/TestingFiles/Pipeline Files/MainScript.ipynb",
   "output_path": "/home/srudloff/github/jupyterlab_scheduler/TestingFiles/Pipeline Files/MainScript.ipynb",
   "parameters": {},
   "start_time": "2022-08-21T00:00:02.122150",
   "version": "2.3.4"
  },
  "widgets": {
   "application/vnd.jupyter.widget-state+json": {
    "state": {},
    "version_major": 2,
    "version_minor": 0
   }
  }
 },
 "nbformat": 4,
 "nbformat_minor": 5
}