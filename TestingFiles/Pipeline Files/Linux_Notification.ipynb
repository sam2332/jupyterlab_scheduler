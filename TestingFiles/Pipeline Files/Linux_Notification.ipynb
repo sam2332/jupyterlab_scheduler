{
 "cells": [
  {
   "cell_type": "code",
   "execution_count": 1,
   "id": "411d5a76-c6a4-4b95-91b4-86cb6cc278dd",
   "metadata": {
    "execution": {
     "iopub.execute_input": "2022-08-20T23:56:12.274011Z",
     "iopub.status.busy": "2022-08-20T23:56:12.273670Z",
     "iopub.status.idle": "2022-08-20T23:56:12.319577Z",
     "shell.execute_reply": "2022-08-20T23:56:12.318942Z"
    },
    "papermill": {
     "duration": 0.050785,
     "end_time": "2022-08-20T23:56:12.321858",
     "exception": false,
     "start_time": "2022-08-20T23:56:12.271073",
     "status": "completed"
    },
    "tags": []
   },
   "outputs": [],
   "source": [
    "import json\n",
    "import os\n",
    "from pathlib import Path\n",
    "\n",
    "import requests\n",
    "from pydbus import SessionBus"
   ]
  },
  {
   "cell_type": "markdown",
   "id": "d2d48607-1fa4-44a6-92fa-a5c73ee32c38",
   "metadata": {
    "execution": {
     "iopub.execute_input": "2022-08-20T23:56:12.274011Z",
     "iopub.status.busy": "2022-08-20T23:56:12.273670Z",
     "iopub.status.idle": "2022-08-20T23:56:12.319577Z",
     "shell.execute_reply": "2022-08-20T23:56:12.318942Z"
    },
    "papermill": {
     "duration": 0.050785,
     "end_time": "2022-08-20T23:56:12.321858",
     "exception": false,
     "start_time": "2022-08-20T23:56:12.271073",
     "status": "completed"
    },
    "tags": []
   },
   "source": [
    "# Linux Notifications\n",
    "\n",
    "Use pydbus to send a system notification "
   ]
  },
  {
   "cell_type": "code",
   "execution_count": 2,
   "id": "b8c6f519-6a53-45d4-b638-4faced5503b5",
   "metadata": {
    "execution": {
     "iopub.execute_input": "2022-08-20T23:56:12.326376Z",
     "iopub.status.busy": "2022-08-20T23:56:12.326014Z",
     "iopub.status.idle": "2022-08-20T23:56:12.329731Z",
     "shell.execute_reply": "2022-08-20T23:56:12.329206Z"
    },
    "papermill": {
     "duration": 0.008132,
     "end_time": "2022-08-20T23:56:12.331555",
     "exception": false,
     "start_time": "2022-08-20T23:56:12.323423",
     "status": "completed"
    },
    "tags": []
   },
   "outputs": [],
   "source": [
    "p = Path(\"env.json\")\n",
    "d = json.loads(p.read_text())\n",
    "message = d[\"Notification_Message\"]\n",
    "title = d[\"Notification_Title\"]"
   ]
  },
  {
   "cell_type": "code",
   "execution_count": 3,
   "id": "73592081-24ed-4a96-b2d0-c58ea886a5c4",
   "metadata": {
    "execution": {
     "iopub.execute_input": "2022-08-20T23:56:12.335771Z",
     "iopub.status.busy": "2022-08-20T23:56:12.335454Z",
     "iopub.status.idle": "2022-08-20T23:56:17.887363Z",
     "shell.execute_reply": "2022-08-20T23:56:17.886072Z"
    },
    "papermill": {
     "duration": 5.557025,
     "end_time": "2022-08-20T23:56:17.889962",
     "exception": false,
     "start_time": "2022-08-20T23:56:12.332937",
     "status": "completed"
    },
    "tags": []
   },
   "outputs": [
    {
     "name": "stdout",
     "output_type": "stream",
     "text": [
      "PO notification: t:System' m:'Working p2''\n"
     ]
    }
   ],
   "source": [
    "bus = SessionBus()\n",
    "notifications = bus.get(\".Notifications\")\n",
    "notifications.Notify(\"test\", 0, \"dialog-information\", title, message, [], {}, 5000)"
   ]
  },
  {
   "cell_type": "code",
   "execution_count": null,
   "id": "e5fad9c2-a744-49a2-b0e0-1372b74c2833",
   "metadata": {
    "papermill": {
     "duration": 0.004537,
     "end_time": "2022-08-20T23:56:17.896717",
     "exception": false,
     "start_time": "2022-08-20T23:56:17.892180",
     "status": "completed"
    },
    "tags": []
   },
   "outputs": [],
   "source": []
  }
 ],
 "metadata": {
  "kernelspec": {
   "display_name": "Python 3 (ipykernel)",
   "language": "python",
   "name": "python3"
  },
  "language_info": {
   "codemirror_mode": {
    "name": "ipython",
    "version": 3
   },
   "file_extension": ".py",
   "mimetype": "text/x-python",
   "name": "python",
   "nbconvert_exporter": "python",
   "pygments_lexer": "ipython3",
   "version": "3.10.4"
  },
  "papermill": {
   "default_parameters": {},
   "duration": 6.86821,
   "end_time": "2022-08-20T23:56:18.115629",
   "environment_variables": {},
   "exception": null,
   "input_path": "/home/srudloff/github/jupyterlab_scheduler/TestingFiles/Pipeline Files/PO_Notification.ipynb",
   "output_path": "/home/srudloff/github/jupyterlab_scheduler/TestingFiles/Pipeline Files/PO_Notification.ipynb",
   "parameters": {},
   "start_time": "2022-08-20T23:56:11.247419",
   "version": "2.3.4"
  },
  "widgets": {
   "application/vnd.jupyter.widget-state+json": {
    "state": {},
    "version_major": 2,
    "version_minor": 0
   }
  }
 },
 "nbformat": 4,
 "nbformat_minor": 5
}
