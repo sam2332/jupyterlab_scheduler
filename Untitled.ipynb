{
 "cells": [
  {
   "cell_type": "code",
   "execution_count": 27,
   "id": "325d67d0-5b6a-43c5-beba-b4008a7d807b",
   "metadata": {},
   "outputs": [],
   "source": [
    "import os\n",
    "import re\n",
    "from jupyterlab_scheduler.handlers import CronTab"
   ]
  },
  {
   "cell_type": "code",
   "execution_count": 30,
   "id": "9f924d53-96cd-4be0-91af-cbdb74219475",
   "metadata": {},
   "outputs": [
    {
     "name": "stdout",
     "output_type": "stream",
     "text": [
      "*/10 * * * * echo \"`date` [Cronjob executing]\" >> /tmp/Untitled1_ipynb.log && bash /home/srudloff/Untitled1.ipynb >> /tmp/Untitled1_ipynb.log 2>&1 # jupyterlab_scheduler job script: Untitled1.ipynb\n",
      "*/10 * * * * \n",
      "\n",
      "*/10 * * * * echo \"`date` [Cronjob executing]\" >> /tmp/Untitled_ipynb.log && nbRunner ~/github/jupyterlab_scheduler/Untitled.ipynb >> /tmp/Untitled_ipynb.log 2>&1 # jupyterlab_scheduler job script: Untitled.ipynb\n",
      "*/10 * * * * \n",
      "\n"
     ]
    }
   ],
   "source": [
    "cron = CronTab(user = os.environ[\"USER\"])\n",
    "for job in cron:\n",
    "    if(\"jupyterlab_scheduler job\" in job.comment):\n",
    "        print(str(job))\n",
    "        command_match = re.search(r\"(?:^.*\\[Cronjob executing\\]\\\"\\s>>.*&&\\s)(.*?)(?:\\s>>)\", job.command)\n",
    "        command = command_match.group(1)\n",
    "\n",
    "        log_file_match = re.search(r\"(?:>\\s)([\\/A-Za-z_\\-\\d+]+\\.log)\", job.command)\n",
    "        log_file = log_file_match.group(1)\n",
    "\n",
    "        script_match = re.search(r\"(?:script:\\s)(.*)\", job.comment)\n",
    "        script = script_match.group(1)\n",
    "\n",
    "        schedule_match = re.search(r\"(((\\d+,)+\\d+|(\\d+(\\/|-)\\d+)|\\d+|\\*|\\/) ?){5,15}\", str(job))\n",
    "        schedule = schedule_match.group(0)\n",
    "        print(schedule_match.group())\n",
    "        print()"
   ]
  },
  {
   "cell_type": "code",
   "execution_count": 31,
   "id": "b72ebb0a-beea-424f-93dc-871b5ee95b18",
   "metadata": {},
   "outputs": [
    {
     "data": {
      "text/plain": [
       "'/tmp/Untitled_ipynb.log'"
      ]
     },
     "execution_count": 31,
     "metadata": {},
     "output_type": "execute_result"
    }
   ],
   "source": [
    "log_file"
   ]
  },
  {
   "cell_type": "code",
   "execution_count": 32,
   "id": "1e59638a-8a45-43e9-ba10-d2eb4384bc14",
   "metadata": {},
   "outputs": [
    {
     "data": {
      "text/plain": [
       "'nbRunner ~/github/jupyterlab_scheduler/Untitled.ipynb'"
      ]
     },
     "execution_count": 32,
     "metadata": {},
     "output_type": "execute_result"
    }
   ],
   "source": [
    "command"
   ]
  },
  {
   "cell_type": "code",
   "execution_count": 33,
   "id": "8e6e66f7-d0cb-4246-9cc3-ad56c9312ec7",
   "metadata": {},
   "outputs": [
    {
     "data": {
      "text/plain": [
       "'echo \"`date` [Cronjob executing]\" >> /tmp/Untitled_ipynb.log && nbRunner ~/github/jupyterlab_scheduler/Untitled.ipynb >> /tmp/Untitled_ipynb.log 2>&1'"
      ]
     },
     "execution_count": 33,
     "metadata": {},
     "output_type": "execute_result"
    }
   ],
   "source": [
    "job.command"
   ]
  },
  {
   "cell_type": "code",
   "execution_count": 34,
   "id": "5a0642cf-4e18-4a97-9309-6076ac0043aa",
   "metadata": {},
   "outputs": [
    {
     "data": {
      "text/plain": [
       "'jupyterlab_scheduler job script: Untitled.ipynb'"
      ]
     },
     "execution_count": 34,
     "metadata": {},
     "output_type": "execute_result"
    }
   ],
   "source": [
    "job.comment"
   ]
  },
  {
   "cell_type": "code",
   "execution_count": 39,
   "id": "a291c775-91b6-48c0-a0d2-288b867641a7",
   "metadata": {},
   "outputs": [
    {
     "data": {
      "text/plain": [
       "['__class__',\n",
       " '__delattr__',\n",
       " '__dict__',\n",
       " '__dir__',\n",
       " '__doc__',\n",
       " '__eq__',\n",
       " '__format__',\n",
       " '__ge__',\n",
       " '__getattribute__',\n",
       " '__getitem__',\n",
       " '__gt__',\n",
       " '__hash__',\n",
       " '__init__',\n",
       " '__init_subclass__',\n",
       " '__le__',\n",
       " '__len__',\n",
       " '__lt__',\n",
       " '__module__',\n",
       " '__ne__',\n",
       " '__new__',\n",
       " '__reduce__',\n",
       " '__reduce_ex__',\n",
       " '__repr__',\n",
       " '__setattr__',\n",
       " '__sizeof__',\n",
       " '__str__',\n",
       " '__subclasshook__',\n",
       " '__unicode__',\n",
       " '__weakref__',\n",
       " '_log',\n",
       " '_set_parse',\n",
       " 'clear',\n",
       " 'command',\n",
       " 'comment',\n",
       " 'cron',\n",
       " 'day',\n",
       " 'delete',\n",
       " 'description',\n",
       " 'dom',\n",
       " 'dow',\n",
       " 'enable',\n",
       " 'enabled',\n",
       " 'env',\n",
       " 'every',\n",
       " 'every_reboot',\n",
       " 'frequency',\n",
       " 'frequency_per_day',\n",
       " 'frequency_per_hour',\n",
       " 'frequency_per_year',\n",
       " 'from_line',\n",
       " 'hour',\n",
       " 'hours',\n",
       " 'is_enabled',\n",
       " 'is_valid',\n",
       " 'last_run',\n",
       " 'log',\n",
       " 'marker',\n",
       " 'minute',\n",
       " 'minutes',\n",
       " 'month',\n",
       " 'months',\n",
       " 'parse',\n",
       " 'pre_comment',\n",
       " 'render',\n",
       " 'run',\n",
       " 'run_pending',\n",
       " 'schedule',\n",
       " 'set_command',\n",
       " 'set_comment',\n",
       " 'setall',\n",
       " 'slices',\n",
       " 'special',\n",
       " 'stdin',\n",
       " 'user',\n",
       " 'valid']"
      ]
     },
     "execution_count": 39,
     "metadata": {},
     "output_type": "execute_result"
    }
   ],
   "source": [
    "dir(job)"
   ]
  },
  {
   "cell_type": "code",
   "execution_count": 43,
   "id": "01e98e27-7101-45ed-9011-ed4d9e85c1ca",
   "metadata": {},
   "outputs": [
    {
     "data": {
      "text/plain": [
       "'*/10 * * * * echo \"`date` [Cronjob executing]\" >> /tmp/Untitled_ipynb.log && nbRunner ~/github/jupyterlab_scheduler/Untitled.ipynb >> /tmp/Untitled_ipynb.log 2>&1 # jupyterlab_scheduler job script: Untitled.ipynb'"
      ]
     },
     "execution_count": 43,
     "metadata": {},
     "output_type": "execute_result"
    }
   ],
   "source": []
  },
  {
   "cell_type": "code",
   "execution_count": null,
   "id": "d0b588fc-0390-4bc3-aa4f-de9d8e02152e",
   "metadata": {},
   "outputs": [],
   "source": []
  }
 ],
 "metadata": {
  "kernelspec": {
   "display_name": "Python 3 (ipykernel)",
   "language": "python",
   "name": "python3"
  },
  "language_info": {
   "codemirror_mode": {
    "name": "ipython",
    "version": 3
   },
   "file_extension": ".py",
   "mimetype": "text/x-python",
   "name": "python",
   "nbconvert_exporter": "python",
   "pygments_lexer": "ipython3",
   "version": "3.10.4"
  }
 },
 "nbformat": 4,
 "nbformat_minor": 5
}
